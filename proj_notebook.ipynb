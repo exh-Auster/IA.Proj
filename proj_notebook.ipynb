{
 "cells": [
  {
   "cell_type": "markdown",
   "metadata": {},
   "source": [
    "## Grupo\n",
    "<table width=\"300\" border=\"2\">\n",
    "    <tr>\n",
    "        <td><b>Nome do Aluno</b> </td>\n",
    "        <td><b>RA</b></td>\n",
    "     </tr>  \n",
    "   <tr>\n",
    "       <td>André Matteucci</td>\n",
    "       <td>10403403</td>\n",
    "   </tr>\n",
    "   <tr>\n",
    "       <td>Enzo Koji</td>\n",
    "       <td>10403411</td>\n",
    "   </tr>\n",
    "   <tr>\n",
    "       <td>Felipe Ribeiro</td>\n",
    "       <td>10400831</td>\n",
    "   </tr>\n",
    "</table>"
   ]
  },
  {
   "cell_type": "code",
   "execution_count": null,
   "metadata": {},
   "outputs": [],
   "source": [
    "%pip install pandas"
   ]
  },
  {
   "cell_type": "code",
   "execution_count": 2,
   "metadata": {},
   "outputs": [],
   "source": [
    "import pandas as pd"
   ]
  }
 ],
 "metadata": {
  "kernelspec": {
   "display_name": ".venv",
   "language": "python",
   "name": "python3"
  },
  "language_info": {
   "codemirror_mode": {
    "name": "ipython",
    "version": 3
   },
   "file_extension": ".py",
   "mimetype": "text/x-python",
   "name": "python",
   "nbconvert_exporter": "python",
   "pygments_lexer": "ipython3",
   "version": "3.13.1"
  }
 },
 "nbformat": 4,
 "nbformat_minor": 2
}
